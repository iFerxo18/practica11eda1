{
 "cells": [
  {
   "cell_type": "code",
   "execution_count": 1,
   "metadata": {},
   "outputs": [],
   "source": [
    "from string import ascii_letters , digits\n",
    "from itertools import product\n",
    "\n",
    "#Concatenar letas y dígitos en una sola cadena\n",
    "caracteres = ascii_letters+digits\n",
    "\n",
    "def buscador(con):\n",
    "    \n",
    "    #Archivo con todas las combinaciones generadas\n",
    "    archivo = open(\"combinaciones.txt\", \"w\")\n",
    "    \n",
    "    if 3<= len(con) <= 4:\n",
    "        for i in range(3,5):\n",
    "            for comb in product(caracteres, repeat = i):\n",
    "                #Se utiliza join() para concatenar los caracteres regresado por la función product().\n",
    "                #Como join necesita una cadena inicial para hacer la concatenación, se pone una cadena vacía\n",
    "                #al principio\n",
    "                prueba = \"\".join(comb)\n",
    "                #Escribiendo al archivo cada combinación generada\n",
    "                archivo.write( prueba + \"\\n\"  )\n",
    "                if  prueba == con:\n",
    "                    print('Tu contraseña es {}'.format(prueba))\n",
    "                    #Cerrando el archivo\n",
    "                    archivo.close()\n",
    "                    break\n",
    "    else:\n",
    "        print('Ingresa una contraseña que contenga de 3 a 4 caracteres')"
   ]
  },
  {
   "cell_type": "code",
   "execution_count": 2,
   "metadata": {},
   "outputs": [
    {
     "name": "stdout",
     "output_type": "stream",
     "text": [
      "Tu contraseña es H0l4\n",
      "Tiempos de ejecución 6.044191\n"
     ]
    }
   ],
   "source": [
    "from time import time\n",
    "t0 = time() \n",
    "con = 'H0l4'\n",
    "buscador(con)\n",
    "print(\"Tiempos de ejecución {}\".format(round(time()-t0, 6)))"
   ]
  },
  {
   "cell_type": "code",
   "execution_count": 3,
   "metadata": {},
   "outputs": [],
   "source": [
    "def cambio(cantidad, denominaciones):\n",
    "    resultado = []\n",
    "    while (cantidad > 0):\n",
    "        if (cantidad >= denominaciones[0]):\n",
    "            \n",
    "            num = cantidad // denominaciones[0]\n",
    "            cantidad = cantidad - (num * denominaciones[0])\n",
    "            resultado.append([denominaciones[0], num])\n",
    "        denominaciones = denominaciones[1:]  #Se va consumiendo la lista de denominaciones\n",
    "    return resultado"
   ]
  },
  {
   "cell_type": "code",
   "execution_count": 4,
   "metadata": {},
   "outputs": [
    {
     "name": "stdout",
     "output_type": "stream",
     "text": [
      "[[500, 2]]\n",
      "[[500, 1]]\n",
      "[[50, 6]]\n",
      "[[5, 40]]\n",
      "[[50, 1], [20, 2], [5, 1], [1, 3]]\n"
     ]
    }
   ],
   "source": [
    "\n",
    "#Pruebas del algoritmo\n",
    "print (cambio(1000, [500, 200, 100, 50, 20, 5, 1]))\n",
    "\n",
    "print (cambio(500, [500, 200, 100, 50, 20, 5, 1]))\n",
    "\n",
    "print (cambio(300, [50, 20, 5, 1]))\n",
    "\n",
    "print (cambio(200, [5]))\n",
    "\n",
    "print (cambio(98, [50, 20, 5, 1]))"
   ]
  },
  {
   "cell_type": "code",
   "execution_count": 5,
   "metadata": {},
   "outputs": [
    {
     "name": "stdout",
     "output_type": "stream",
     "text": [
      "[[5, 19], [1, 3]]\n"
     ]
    }
   ],
   "source": [
    "print (cambio(98, [5, 20, 1, 50]))"
   ]
  },
  {
   "cell_type": "code",
   "execution_count": 6,
   "metadata": {},
   "outputs": [],
   "source": [
    "def fibonacci_iterativo_v1(numero):\n",
    "    f1=0\n",
    "    f2=1\n",
    "    tmp=0\n",
    "    for i in range(1,numero-1):\n",
    "        tmp = f1+f2\n",
    "        f1=f2\n",
    "        f2=tmp\n",
    "    return f2"
   ]
  },
  {
   "cell_type": "code",
   "execution_count": 7,
   "metadata": {},
   "outputs": [
    {
     "data": {
      "text/plain": [
       "5"
      ]
     },
     "execution_count": 7,
     "metadata": {},
     "output_type": "execute_result"
    }
   ],
   "source": [
    "fibonacci_iterativo_v1(6)"
   ]
  },
  {
   "cell_type": "code",
   "execution_count": 8,
   "metadata": {},
   "outputs": [],
   "source": [
    "\n",
    "def fibonacci_bottom_up(numero):\n",
    "    f_parciales = [0, 1, 1]  #Esta es la lista que mantiene las soluciones previamente calculadas\n",
    "    while len(f_parciales) < numero:\n",
    "        f_parciales.append(f_parciales[-1] + f_parciales[-2])\n",
    "        print(f_parciales)\n",
    "    return f_parciales[numero-1]"
   ]
  },
  {
   "cell_type": "code",
   "execution_count": 9,
   "metadata": {},
   "outputs": [
    {
     "name": "stdout",
     "output_type": "stream",
     "text": [
      "[0, 1, 1, 2]\n",
      "[0, 1, 1, 2, 3]\n"
     ]
    },
    {
     "data": {
      "text/plain": [
       "3"
      ]
     },
     "execution_count": 9,
     "metadata": {},
     "output_type": "execute_result"
    }
   ],
   "source": [
    "fibonacci_bottom_up(5)"
   ]
  },
  {
   "cell_type": "code",
   "execution_count": 10,
   "metadata": {},
   "outputs": [],
   "source": [
    "\n",
    "#Memoria inicial\n",
    "memoria = {1:0, 2:1, 3:1}"
   ]
  },
  {
   "cell_type": "code",
   "execution_count": 11,
   "metadata": {},
   "outputs": [],
   "source": [
    "def fibonacci_top_down(numero):\n",
    "    if numero in memoria:      #Si el número ya se encuentra calculado, se regresa el valor ya ya no se hacen más cálculos\n",
    "        return memoria[numero]\n",
    "    f = fibonacci_iterativo_v2(numero-1) + fibonacci_iterativo_v2(numero-2)\n",
    "    memoria[numero] = f\n",
    "    return memoria[numero]"
   ]
  },
  {
   "cell_type": "code",
   "execution_count": 12,
   "metadata": {},
   "outputs": [],
   "source": [
    "#Se carga la biblioteca\n",
    "import pickle\n",
    "\n",
    "#Guardar variable\n",
    "#No hay restricción en lo que se pone como extensión del archivo, \n",
    "#generalmente se usa .p o .pickle como estandar.\n",
    "archivo = open('memoria.p', 'wb')   #Se abre el archivo para escribir en modo binario\n",
    "pickle.dump(memoria, archivo)       #Se guarda la variable memoria que es un diccionario\n",
    "archivo.close()                     #Se cierra el archivo"
   ]
  },
  {
   "cell_type": "code",
   "execution_count": 13,
   "metadata": {},
   "outputs": [],
   "source": [
    "#Leer variable\n",
    "archivo = open('memoria.p', 'rb')          #Se abre el archivo para leer en modo binario\n",
    "memoria_de_archivo = pickle.load(archivo)  #Se lee la variable\n",
    "archivo.close()                            #Se cierra el archivo"
   ]
  },
  {
   "cell_type": "code",
   "execution_count": 14,
   "metadata": {},
   "outputs": [
    {
     "data": {
      "text/plain": [
       "{1: 0, 2: 1, 3: 1}"
      ]
     },
     "execution_count": 14,
     "metadata": {},
     "output_type": "execute_result"
    }
   ],
   "source": [
    "memoria"
   ]
  },
  {
   "cell_type": "code",
   "execution_count": 15,
   "metadata": {},
   "outputs": [
    {
     "data": {
      "text/plain": [
       "{1: 0, 2: 1, 3: 1}"
      ]
     },
     "execution_count": 15,
     "metadata": {},
     "output_type": "execute_result"
    }
   ],
   "source": [
    "\n",
    "memoria_de_archivo"
   ]
  },
  {
   "cell_type": "code",
   "execution_count": 17,
   "metadata": {},
   "outputs": [],
   "source": [
    "def insertionSort(n_lista):\n",
    "    for index in range(1,len(n_lista)):\n",
    "        actual = n_lista[index]\n",
    "        posicion = index\n",
    "        print(\"valor a ordenar = {}\".format(actual))\n",
    "        while posicion>0 and n_lista[posicion-1]>actual:\n",
    "            n_lista[posicion]=n_lista[posicion-1]\n",
    "            posicion = posicion-1           \n",
    "        n_lista[posicion]=actual\n",
    "        print(n_lista)\n",
    "        print() \n",
    "    return n_lista"
   ]
  },
  {
   "cell_type": "code",
   "execution_count": 18,
   "metadata": {},
   "outputs": [
    {
     "name": "stdout",
     "output_type": "stream",
     "text": [
      "lista desordenada [21, 10, 0, 11, 9, 24, 20, 14, 1]\n",
      "valor a ordenar = 10\n",
      "[10, 21, 0, 11, 9, 24, 20, 14, 1]\n",
      "\n",
      "valor a ordenar = 0\n",
      "[0, 10, 21, 11, 9, 24, 20, 14, 1]\n",
      "\n",
      "valor a ordenar = 11\n",
      "[0, 10, 11, 21, 9, 24, 20, 14, 1]\n",
      "\n",
      "valor a ordenar = 9\n",
      "[0, 9, 10, 11, 21, 24, 20, 14, 1]\n",
      "\n",
      "valor a ordenar = 24\n",
      "[0, 9, 10, 11, 21, 24, 20, 14, 1]\n",
      "\n",
      "valor a ordenar = 20\n",
      "[0, 9, 10, 11, 20, 21, 24, 14, 1]\n",
      "\n",
      "valor a ordenar = 14\n",
      "[0, 9, 10, 11, 14, 20, 21, 24, 1]\n",
      "\n",
      "valor a ordenar = 1\n",
      "[0, 1, 9, 10, 11, 14, 20, 21, 24]\n",
      "\n",
      "lista ordenada [0, 1, 9, 10, 11, 14, 20, 21, 24]\n"
     ]
    }
   ],
   "source": [
    "# Datos de entrada\n",
    "lista = [21, 10, 0, 11, 9, 24, 20, 14, 1]\n",
    "print(\"lista desordenada {}\".format(lista))\n",
    "insertionSort(lista)\n",
    "print(\"lista ordenada {}\".format(lista))"
   ]
  },
  {
   "cell_type": "code",
   "execution_count": 19,
   "metadata": {},
   "outputs": [],
   "source": [
    "def quicksort(lista):\n",
    "    quicksort_aux(lista,0,len(lista)-1)\n",
    "\n",
    "def quicksort_aux(lista,inicio, fin):\n",
    "    if inicio < fin:\n",
    "\n",
    "        pivote = particion(lista,inicio,fin)\n",
    "\n",
    "        quicksort_aux(lista, inicio, pivote-1)\n",
    "        quicksort_aux(lista, pivote+1, fin)"
   ]
  },
  {
   "cell_type": "code",
   "execution_count": 20,
   "metadata": {},
   "outputs": [],
   "source": [
    "def particion(lista, inicio, fin):\n",
    "    #Se asigna como pivote en número de la primera localidad\n",
    "    pivote = lista[inicio]\n",
    "    print(\"Valor del pivote {}\".format(pivote))\n",
    "    #Se crean dos marcadores \n",
    "    izquierda = inicio+1\n",
    "    derecha = fin\n",
    "    print(\"Índice izquierdo {}\".format(izquierda))\n",
    "    print(\"Índice derecho {}\".format(derecha))\n",
    "\n",
    "    \n",
    "    bandera = False\n",
    "    while not bandera:\n",
    "        while izquierda <= derecha and lista[izquierda] <= pivote:\n",
    "            izquierda = izquierda + 1\n",
    "        while lista[derecha] >= pivote and derecha >=izquierda:\n",
    "            derecha = derecha -1\n",
    "        if derecha < izquierda:\n",
    "            bandera= True\n",
    "        else:\n",
    "            temp=lista[izquierda]\n",
    "            lista[izquierda]=lista[derecha]\n",
    "            lista[derecha]=temp\n",
    "            \n",
    "    print(lista)\n",
    "\n",
    "\n",
    "    temp=lista[inicio]\n",
    "    lista[inicio]=lista[derecha]\n",
    "    lista[derecha]=temp\n",
    "    return derecha"
   ]
  },
  {
   "cell_type": "code",
   "execution_count": 21,
   "metadata": {},
   "outputs": [
    {
     "name": "stdout",
     "output_type": "stream",
     "text": [
      "lista desordenada [21, 10, 0, 11, 9, 24, 20, 14, 1]\n",
      "Valor del pivote 21\n",
      "Índice izquierdo 1\n",
      "Índice derecho 8\n",
      "[21, 10, 0, 11, 9, 1, 20, 14, 24]\n",
      "Valor del pivote 14\n",
      "Índice izquierdo 1\n",
      "Índice derecho 6\n",
      "[14, 10, 0, 11, 9, 1, 20, 21, 24]\n",
      "Valor del pivote 1\n",
      "Índice izquierdo 1\n",
      "Índice derecho 4\n",
      "[1, 0, 10, 11, 9, 14, 20, 21, 24]\n",
      "Valor del pivote 10\n",
      "Índice izquierdo 3\n",
      "Índice derecho 4\n",
      "[0, 1, 10, 9, 11, 14, 20, 21, 24]\n",
      "lista ordenada [0, 1, 9, 10, 11, 14, 20, 21, 24]\n"
     ]
    }
   ],
   "source": [
    "lista = [21, 10, 0, 11, 9, 24, 20, 14, 1]\n",
    "print(\"lista desordenada {}\".format(lista))\n",
    "quicksort(lista)\n",
    "print(\"lista ordenada {}\".format(lista))"
   ]
  },
  {
   "cell_type": "code",
   "execution_count": 22,
   "metadata": {},
   "outputs": [
    {
     "name": "stdout",
     "output_type": "stream",
     "text": [
      "Populating the interactive namespace from numpy and matplotlib\n"
     ]
    },
    {
     "name": "stderr",
     "output_type": "stream",
     "text": [
      "/srv/conda/envs/notebook/lib/python3.6/site-packages/IPython/core/magics/pylab.py:160: UserWarning: pylab import has clobbered these variables: ['time', 'product']\n",
      "`%matplotlib` prevents importing * from pylab and numpy\n",
      "  \"\\n`%matplotlib` prevents importing * from pylab and numpy\"\n"
     ]
    }
   ],
   "source": [
    "\n",
    "# Importando bibliotecas\n",
    "%pylab inline\n",
    "import matplotlib.pyplot as plt\n",
    "from mpl_toolkits.mplot3d import Axes3D"
   ]
  },
  {
   "cell_type": "code",
   "execution_count": 23,
   "metadata": {},
   "outputs": [
    {
     "ename": "ModuleNotFoundError",
     "evalue": "No module named 'insertionSort'",
     "output_type": "error",
     "traceback": [
      "\u001b[0;31m---------------------------------------------------------------------------\u001b[0m",
      "\u001b[0;31mModuleNotFoundError\u001b[0m                       Traceback (most recent call last)",
      "\u001b[0;32m<ipython-input-23-d76a646c052b>\u001b[0m in \u001b[0;36m<module>\u001b[0;34m\u001b[0m\n\u001b[1;32m      4\u001b[0m \u001b[0;34m\u001b[0m\u001b[0m\n\u001b[1;32m      5\u001b[0m \u001b[0;31m#Cargando las funciones guardadas en los archivo\u001b[0m\u001b[0;34m\u001b[0m\u001b[0;34m\u001b[0m\u001b[0;34m\u001b[0m\u001b[0m\n\u001b[0;32m----> 6\u001b[0;31m \u001b[0;32mfrom\u001b[0m \u001b[0minsertionSort\u001b[0m \u001b[0;32mimport\u001b[0m \u001b[0minsertionSort_time\u001b[0m\u001b[0;34m\u001b[0m\u001b[0;34m\u001b[0m\u001b[0m\n\u001b[0m\u001b[1;32m      7\u001b[0m \u001b[0;31m#Sólo se necesita llamar a la función principal\u001b[0m\u001b[0;34m\u001b[0m\u001b[0;34m\u001b[0m\u001b[0;34m\u001b[0m\u001b[0m\n\u001b[1;32m      8\u001b[0m \u001b[0;32mfrom\u001b[0m \u001b[0mquickSort\u001b[0m \u001b[0;32mimport\u001b[0m \u001b[0mquicksort_time\u001b[0m\u001b[0;34m\u001b[0m\u001b[0;34m\u001b[0m\u001b[0m\n",
      "\u001b[0;31mModuleNotFoundError\u001b[0m: No module named 'insertionSort'"
     ]
    }
   ],
   "source": [
    "#Cargando módulos\n",
    "import random\n",
    "from time import time\n",
    "\n",
    "#Cargando las funciones guardadas en los archivo\n",
    "from insertionSort import insertionSort_time\n",
    "#Sólo se necesita llamar a la función principal\n",
    "from quickSort import quicksort_time"
   ]
  },
  {
   "cell_type": "code",
   "execution_count": 24,
   "metadata": {},
   "outputs": [
    {
     "ename": "NameError",
     "evalue": "name 'insertionSort_time' is not defined",
     "output_type": "error",
     "traceback": [
      "\u001b[0;31m---------------------------------------------------------------------------\u001b[0m",
      "\u001b[0;31mNameError\u001b[0m                                 Traceback (most recent call last)",
      "\u001b[0;32m<ipython-input-24-f009f12edf41>\u001b[0m in \u001b[0;36m<module>\u001b[0;34m\u001b[0m\n\u001b[1;32m     11\u001b[0m \u001b[0;34m\u001b[0m\u001b[0m\n\u001b[1;32m     12\u001b[0m     \u001b[0mt0\u001b[0m \u001b[0;34m=\u001b[0m \u001b[0mtime\u001b[0m\u001b[0;34m(\u001b[0m\u001b[0;34m)\u001b[0m  \u001b[0;31m#Se guarda el tiempo inicial\u001b[0m\u001b[0;34m\u001b[0m\u001b[0;34m\u001b[0m\u001b[0m\n\u001b[0;32m---> 13\u001b[0;31m     \u001b[0minsertionSort_time\u001b[0m\u001b[0;34m(\u001b[0m\u001b[0mlista_is\u001b[0m\u001b[0;34m)\u001b[0m\u001b[0;34m\u001b[0m\u001b[0;34m\u001b[0m\u001b[0m\n\u001b[0m\u001b[1;32m     14\u001b[0m     \u001b[0mtiempo_is\u001b[0m\u001b[0;34m.\u001b[0m\u001b[0mappend\u001b[0m\u001b[0;34m(\u001b[0m\u001b[0mround\u001b[0m\u001b[0;34m(\u001b[0m\u001b[0mtime\u001b[0m\u001b[0;34m(\u001b[0m\u001b[0;34m)\u001b[0m\u001b[0;34m-\u001b[0m\u001b[0mt0\u001b[0m\u001b[0;34m,\u001b[0m \u001b[0;36m6\u001b[0m\u001b[0;34m)\u001b[0m\u001b[0;34m)\u001b[0m   \u001b[0;31m#Se le resta al tiempo actual, el tiempo inicial\u001b[0m\u001b[0;34m\u001b[0m\u001b[0;34m\u001b[0m\u001b[0m\n\u001b[1;32m     15\u001b[0m \u001b[0;34m\u001b[0m\u001b[0m\n",
      "\u001b[0;31mNameError\u001b[0m: name 'insertionSort_time' is not defined"
     ]
    }
   ],
   "source": [
    "#Tamaños de la lista de números aleatorios a generar\n",
    "datos = [ii*100 for ii in range(1,21)] \n",
    "\n",
    "tiempo_is = []  #Lista para guardar el tiempo de ejecución de insert sort\n",
    "tiempo_qs = []  #Lista para guardar el tiempo de ejecución de quick sort\n",
    "\n",
    "for ii in datos:\n",
    "    lista_is = random.sample(range(0, 10000000), ii)\n",
    "    #Se hace una copia de la lista para que se ejecute el algoritmo con los mismo números\n",
    "    lista_qs = lista_is.copy() \n",
    "    \n",
    "    t0 = time()  #Se guarda el tiempo inicial\n",
    "    insertionSort_time(lista_is)\n",
    "    tiempo_is.append(round(time()-t0, 6))   #Se le resta al tiempo actual, el tiempo inicial\n",
    "    \n",
    "    t0 = time()    \n",
    "    quicksort_time(lista_qs)\n",
    "    tiempo_qs.append(round(time()-t0, 6))"
   ]
  },
  {
   "cell_type": "code",
   "execution_count": 25,
   "metadata": {},
   "outputs": [
    {
     "name": "stdout",
     "output_type": "stream",
     "text": [
      "Tiempos parciales de ejecución en INSERT SORT [] [s] \n",
      "\n",
      "Tiempos parciales de ejecución en QUICK SORT [] [s]\n"
     ]
    }
   ],
   "source": [
    "\n",
    "# Se imprimen los tiempos parciales de ejecución\n",
    "print(\"Tiempos parciales de ejecución en INSERT SORT {} [s] \\n\".format(tiempo_is))\n",
    "print(\"Tiempos parciales de ejecución en QUICK SORT {} [s]\".format(tiempo_qs))"
   ]
  },
  {
   "cell_type": "code",
   "execution_count": 26,
   "metadata": {},
   "outputs": [
    {
     "name": "stdout",
     "output_type": "stream",
     "text": [
      "Tiempo total de ejecución en insert sort 0.0 [s]\n",
      "Tiempo total de ejecución en quick sort 0.0 [s]\n"
     ]
    }
   ],
   "source": [
    "\n",
    "# Se imprimen los tiempos totales de ejecución\n",
    "# Para calcular el tiempo total se aplica la función sum() a las listas de tiempo\n",
    "print(\"Tiempo total de ejecución en insert sort {} [s]\".format(sum(tiempo_is)))\n",
    "print(\"Tiempo total de ejecución en quick sort {} [s]\".format(sum(tiempo_qs)))"
   ]
  },
  {
   "cell_type": "code",
   "execution_count": 27,
   "metadata": {},
   "outputs": [
    {
     "ename": "ValueError",
     "evalue": "x and y must have same first dimension, but have shapes (20,) and (0,)",
     "output_type": "error",
     "traceback": [
      "\u001b[0;31m---------------------------------------------------------------------------\u001b[0m",
      "\u001b[0;31mValueError\u001b[0m                                Traceback (most recent call last)",
      "\u001b[0;32m<ipython-input-27-96dcc2de11ec>\u001b[0m in \u001b[0;36m<module>\u001b[0;34m\u001b[0m\n\u001b[1;32m      1\u001b[0m \u001b[0;31m#Generando la gráfica\u001b[0m\u001b[0;34m\u001b[0m\u001b[0;34m\u001b[0m\u001b[0;34m\u001b[0m\u001b[0m\n\u001b[1;32m      2\u001b[0m \u001b[0mfig\u001b[0m\u001b[0;34m,\u001b[0m \u001b[0max\u001b[0m \u001b[0;34m=\u001b[0m \u001b[0msubplots\u001b[0m\u001b[0;34m(\u001b[0m\u001b[0;34m)\u001b[0m\u001b[0;34m\u001b[0m\u001b[0;34m\u001b[0m\u001b[0m\n\u001b[0;32m----> 3\u001b[0;31m \u001b[0max\u001b[0m\u001b[0;34m.\u001b[0m\u001b[0mplot\u001b[0m\u001b[0;34m(\u001b[0m\u001b[0mdatos\u001b[0m\u001b[0;34m,\u001b[0m \u001b[0mtiempo_is\u001b[0m\u001b[0;34m,\u001b[0m \u001b[0mlabel\u001b[0m\u001b[0;34m=\u001b[0m\u001b[0;34m\"insert sort\"\u001b[0m\u001b[0;34m,\u001b[0m \u001b[0mmarker\u001b[0m\u001b[0;34m=\u001b[0m\u001b[0;34m\"*\"\u001b[0m\u001b[0;34m,\u001b[0m\u001b[0mcolor\u001b[0m\u001b[0;34m=\u001b[0m\u001b[0;34m\"r\"\u001b[0m\u001b[0;34m)\u001b[0m\u001b[0;34m\u001b[0m\u001b[0;34m\u001b[0m\u001b[0m\n\u001b[0m\u001b[1;32m      4\u001b[0m \u001b[0max\u001b[0m\u001b[0;34m.\u001b[0m\u001b[0mplot\u001b[0m\u001b[0;34m(\u001b[0m\u001b[0mdatos\u001b[0m\u001b[0;34m,\u001b[0m \u001b[0mtiempo_qs\u001b[0m\u001b[0;34m,\u001b[0m \u001b[0mlabel\u001b[0m\u001b[0;34m=\u001b[0m\u001b[0;34m\"quick sort\"\u001b[0m\u001b[0;34m,\u001b[0m \u001b[0mmarker\u001b[0m\u001b[0;34m=\u001b[0m\u001b[0;34m\"o\"\u001b[0m\u001b[0;34m,\u001b[0m\u001b[0mcolor\u001b[0m\u001b[0;34m=\u001b[0m\u001b[0;34m\"b\"\u001b[0m\u001b[0;34m)\u001b[0m\u001b[0;34m\u001b[0m\u001b[0;34m\u001b[0m\u001b[0m\n\u001b[1;32m      5\u001b[0m \u001b[0max\u001b[0m\u001b[0;34m.\u001b[0m\u001b[0mset_xlabel\u001b[0m\u001b[0;34m(\u001b[0m\u001b[0;34m'Datos'\u001b[0m\u001b[0;34m)\u001b[0m\u001b[0;34m\u001b[0m\u001b[0;34m\u001b[0m\u001b[0m\n",
      "\u001b[0;32m/srv/conda/envs/notebook/lib/python3.6/site-packages/matplotlib/axes/_axes.py\u001b[0m in \u001b[0;36mplot\u001b[0;34m(self, scalex, scaley, data, *args, **kwargs)\u001b[0m\n\u001b[1;32m   1644\u001b[0m         \"\"\"\n\u001b[1;32m   1645\u001b[0m         \u001b[0mkwargs\u001b[0m \u001b[0;34m=\u001b[0m \u001b[0mcbook\u001b[0m\u001b[0;34m.\u001b[0m\u001b[0mnormalize_kwargs\u001b[0m\u001b[0;34m(\u001b[0m\u001b[0mkwargs\u001b[0m\u001b[0;34m,\u001b[0m \u001b[0mmlines\u001b[0m\u001b[0;34m.\u001b[0m\u001b[0mLine2D\u001b[0m\u001b[0;34m)\u001b[0m\u001b[0;34m\u001b[0m\u001b[0;34m\u001b[0m\u001b[0m\n\u001b[0;32m-> 1646\u001b[0;31m         \u001b[0mlines\u001b[0m \u001b[0;34m=\u001b[0m \u001b[0;34m[\u001b[0m\u001b[0;34m*\u001b[0m\u001b[0mself\u001b[0m\u001b[0;34m.\u001b[0m\u001b[0m_get_lines\u001b[0m\u001b[0;34m(\u001b[0m\u001b[0;34m*\u001b[0m\u001b[0margs\u001b[0m\u001b[0;34m,\u001b[0m \u001b[0mdata\u001b[0m\u001b[0;34m=\u001b[0m\u001b[0mdata\u001b[0m\u001b[0;34m,\u001b[0m \u001b[0;34m**\u001b[0m\u001b[0mkwargs\u001b[0m\u001b[0;34m)\u001b[0m\u001b[0;34m]\u001b[0m\u001b[0;34m\u001b[0m\u001b[0;34m\u001b[0m\u001b[0m\n\u001b[0m\u001b[1;32m   1647\u001b[0m         \u001b[0;32mfor\u001b[0m \u001b[0mline\u001b[0m \u001b[0;32min\u001b[0m \u001b[0mlines\u001b[0m\u001b[0;34m:\u001b[0m\u001b[0;34m\u001b[0m\u001b[0;34m\u001b[0m\u001b[0m\n\u001b[1;32m   1648\u001b[0m             \u001b[0mself\u001b[0m\u001b[0;34m.\u001b[0m\u001b[0madd_line\u001b[0m\u001b[0;34m(\u001b[0m\u001b[0mline\u001b[0m\u001b[0;34m)\u001b[0m\u001b[0;34m\u001b[0m\u001b[0;34m\u001b[0m\u001b[0m\n",
      "\u001b[0;32m/srv/conda/envs/notebook/lib/python3.6/site-packages/matplotlib/axes/_base.py\u001b[0m in \u001b[0;36m__call__\u001b[0;34m(self, *args, **kwargs)\u001b[0m\n\u001b[1;32m    214\u001b[0m                 \u001b[0mthis\u001b[0m \u001b[0;34m+=\u001b[0m \u001b[0margs\u001b[0m\u001b[0;34m[\u001b[0m\u001b[0;36m0\u001b[0m\u001b[0;34m]\u001b[0m\u001b[0;34m,\u001b[0m\u001b[0;34m\u001b[0m\u001b[0;34m\u001b[0m\u001b[0m\n\u001b[1;32m    215\u001b[0m                 \u001b[0margs\u001b[0m \u001b[0;34m=\u001b[0m \u001b[0margs\u001b[0m\u001b[0;34m[\u001b[0m\u001b[0;36m1\u001b[0m\u001b[0;34m:\u001b[0m\u001b[0;34m]\u001b[0m\u001b[0;34m\u001b[0m\u001b[0;34m\u001b[0m\u001b[0m\n\u001b[0;32m--> 216\u001b[0;31m             \u001b[0;32myield\u001b[0m \u001b[0;32mfrom\u001b[0m \u001b[0mself\u001b[0m\u001b[0;34m.\u001b[0m\u001b[0m_plot_args\u001b[0m\u001b[0;34m(\u001b[0m\u001b[0mthis\u001b[0m\u001b[0;34m,\u001b[0m \u001b[0mkwargs\u001b[0m\u001b[0;34m)\u001b[0m\u001b[0;34m\u001b[0m\u001b[0;34m\u001b[0m\u001b[0m\n\u001b[0m\u001b[1;32m    217\u001b[0m \u001b[0;34m\u001b[0m\u001b[0m\n\u001b[1;32m    218\u001b[0m     \u001b[0;32mdef\u001b[0m \u001b[0mget_next_color\u001b[0m\u001b[0;34m(\u001b[0m\u001b[0mself\u001b[0m\u001b[0;34m)\u001b[0m\u001b[0;34m:\u001b[0m\u001b[0;34m\u001b[0m\u001b[0;34m\u001b[0m\u001b[0m\n",
      "\u001b[0;32m/srv/conda/envs/notebook/lib/python3.6/site-packages/matplotlib/axes/_base.py\u001b[0m in \u001b[0;36m_plot_args\u001b[0;34m(self, tup, kwargs)\u001b[0m\n\u001b[1;32m    340\u001b[0m \u001b[0;34m\u001b[0m\u001b[0m\n\u001b[1;32m    341\u001b[0m         \u001b[0;32mif\u001b[0m \u001b[0mx\u001b[0m\u001b[0;34m.\u001b[0m\u001b[0mshape\u001b[0m\u001b[0;34m[\u001b[0m\u001b[0;36m0\u001b[0m\u001b[0;34m]\u001b[0m \u001b[0;34m!=\u001b[0m \u001b[0my\u001b[0m\u001b[0;34m.\u001b[0m\u001b[0mshape\u001b[0m\u001b[0;34m[\u001b[0m\u001b[0;36m0\u001b[0m\u001b[0;34m]\u001b[0m\u001b[0;34m:\u001b[0m\u001b[0;34m\u001b[0m\u001b[0;34m\u001b[0m\u001b[0m\n\u001b[0;32m--> 342\u001b[0;31m             raise ValueError(f\"x and y must have same first dimension, but \"\n\u001b[0m\u001b[1;32m    343\u001b[0m                              f\"have shapes {x.shape} and {y.shape}\")\n\u001b[1;32m    344\u001b[0m         \u001b[0;32mif\u001b[0m \u001b[0mx\u001b[0m\u001b[0;34m.\u001b[0m\u001b[0mndim\u001b[0m \u001b[0;34m>\u001b[0m \u001b[0;36m2\u001b[0m \u001b[0;32mor\u001b[0m \u001b[0my\u001b[0m\u001b[0;34m.\u001b[0m\u001b[0mndim\u001b[0m \u001b[0;34m>\u001b[0m \u001b[0;36m2\u001b[0m\u001b[0;34m:\u001b[0m\u001b[0;34m\u001b[0m\u001b[0;34m\u001b[0m\u001b[0m\n",
      "\u001b[0;31mValueError\u001b[0m: x and y must have same first dimension, but have shapes (20,) and (0,)"
     ]
    },
    {
     "data": {
      "image/png": "[encoded data removed]",
      "text/plain": [
       "<Figure size 432x288 with 1 Axes>"
      ]
     },
     "metadata": {
      "needs_background": "light"
     },
     "output_type": "display_data"
    }
   ],
   "source": [
    "#Generando la gráfica\n",
    "fig, ax = subplots()\n",
    "ax.plot(datos, tiempo_is, label=\"insert sort\", marker=\"*\",color=\"r\")\n",
    "ax.plot(datos, tiempo_qs, label=\"quick sort\", marker=\"o\",color=\"b\")\n",
    "ax.set_xlabel('Datos') \n",
    "ax.set_ylabel('Tiempo') \n",
    "ax.grid(True)\n",
    "ax.legend(loc=2); \n",
    "\n",
    "plt.title('Tiempo de ejecución [s] (insert vs. quick)')\n",
    "plt.show()"
   ]
  },
  {
   "cell_type": "code",
   "execution_count": 28,
   "metadata": {},
   "outputs": [],
   "source": [
    "import matplotlib.pyplot as plt\n",
    "from mpl_toolkits.mplot3d import Axes3D\n",
    "\n",
    "times = 0\n",
    "\n",
    "def insertionSort_graph(n_lista):\n",
    "    global times\n",
    "    for index in range(1,len(n_lista)):\n",
    "        times += 1\n",
    "        actual = n_lista[index]\n",
    "        posicion = index\n",
    "        while posicion>0 and n_lista[posicion-1]>actual:\n",
    "            times += 1\n",
    "            n_lista[posicion]=n_lista[posicion-1]\n",
    "            posicion = posicion-1           \n",
    "        n_lista[posicion]=actual\n",
    "    return n_lista"
   ]
  },
  {
   "cell_type": "code",
   "execution_count": 29,
   "metadata": {},
   "outputs": [],
   "source": [
    "TAM = 101\n",
    "eje_x = list(range(1,TAM,1))\n",
    "eje_y = []\n",
    "lista_variable = []\n",
    "\n",
    "for num in eje_x:\n",
    "    lista_variable = random.sample(range(0, 1000), num)\n",
    "    times = 0\n",
    "    lista_variable = insertionSort_graph(lista_variable)\n",
    "    eje_y.append(times)"
   ]
  },
  {
   "cell_type": "code",
   "execution_count": 30,
   "metadata": {},
   "outputs": [
    {
     "data": {
      "image/png": "[encoded data removed]",
      "text/plain": [
       "<Figure size 432x288 with 1 Axes>"
      ]
     },
     "metadata": {},
     "output_type": "display_data"
    }
   ],
   "source": [
    "\n",
    "fig, ax = plt.subplots(facecolor='w', edgecolor='k')\n",
    "ax.plot(eje_x, eje_y, marker=\"o\",color=\"b\", linestyle='None')\n",
    "\n",
    "ax.set_xlabel('x')\n",
    "ax.set_ylabel('y')\n",
    "ax.grid(True)\n",
    "ax.legend([\"Insertion sort\"])\n",
    "\n",
    "plt.title('Insertion sort')\n",
    "plt.show()"
   ]
  },
  {
   "cell_type": "code",
   "execution_count": null,
   "metadata": {},
   "outputs": [],
   "source": []
  }
 ],
 "metadata": {
  "kernelspec": {
   "display_name": "Python 3",
   "language": "python",
   "name": "python3"
  },
  "language_info": {
   "codemirror_mode": {
    "name": "ipython",
    "version": 3
   },
   "file_extension": ".py",
   "mimetype": "text/x-python",
   "name": "python",
   "nbconvert_exporter": "python",
   "pygments_lexer": "ipython3",
   "version": "3.6.10"
  }
 },
 "nbformat": 4,
 "nbformat_minor": 4
}
